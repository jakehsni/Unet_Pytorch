{
 "cells": [
  {
   "cell_type": "code",
   "execution_count": 1,
   "metadata": {},
   "outputs": [],
   "source": [
    "import torch\n",
    "import torch.nn as nn\n",
    "import torch.nn.functional as F\n",
    "\n",
    "from Unet_block import Unet\n",
    "from torch_utils import get_param_num"
   ]
  },
  {
   "cell_type": "code",
   "execution_count": 2,
   "metadata": {},
   "outputs": [],
   "source": [
    "def conv1x1_bn_relu(inp_activation, output_activation, BN=True, activation = True):\n",
    "    \"con 1x1 + Batchnormalization + relu\"\n",
    "    layer = [nn.Conv2d(inp_activation, output_activation, 1)]\n",
    "    for i, j in zip([nn.BatchNorm2d(output_activation), nn.ReLU(inplace=True)],[BN, activation]):\n",
    "        if j==True:\n",
    "            layer.append(i)\n",
    "    return nn.Sequential(*layer)"
   ]
  },
  {
   "cell_type": "code",
   "execution_count": 4,
   "metadata": {},
   "outputs": [],
   "source": [
    "def conv5x5_bn_relu(inp_activation, output_activation, BN = True, activation = True):\n",
    "    \"con 5x5 + Batchnormalization + relu\"\n",
    "    layer = [nn.Conv2d(inp_activation, output_activation, 5, padding = 2)]\n",
    "    for i, j in zip([nn.BatchNorm2d(output_activation), nn.ReLU(inplace=True)], [BN, activation]):\n",
    "        if j==True:\n",
    "            layer.append(i)\n",
    "    return nn.Sequential(*layer)"
   ]
  },
  {
   "cell_type": "code",
   "execution_count": 5,
   "metadata": {},
   "outputs": [],
   "source": [
    "class bottleneck_block(nn.Module):\n",
    "    \n",
    "    def __init__(self, input_activation, list_filter=[256, 64, 256], down = None):\n",
    "        super().__init__()\n",
    "        self.conv1x1_1 = conv1x1_bn_relu(input_activation, list_filter[0])\n",
    "        self.conv3x3 = conv3x3_bn_relu(list_filter[0], list_filter[1])\n",
    "        self.conv1x1_2 = conv1x1_bn_relu(list_filter[1], list_filter[2])\n",
    "        self.down = down\n",
    "        if down!=None:\n",
    "            self.contract_conv = down\n",
    "    def forward(self , inp):\n",
    "        x = inp\n",
    "        c = self.conv1x1_1(inp)\n",
    "        c = self.conv3x3(c)\n",
    "        result = self.conv1x1_2(c)\n",
    "        if self.down!=None:\n",
    "            x = self.contract_conv(inp)\n",
    "        \n",
    "        out = result + x\n",
    "        \n",
    "        return out\n",
    "            \n"
   ]
  },
  {
   "cell_type": "code",
   "execution_count": 7,
   "metadata": {},
   "outputs": [],
   "source": [
    "class conv_block_bottle(nn.Module):\n",
    "    \n",
    "    def __init__(self, inp_activation, output):\n",
    "        super().__init__()\n",
    "        self.input = inp_activation\n",
    "        self.output = output\n",
    "        \n",
    "        self.bottle1 = bottleneck_block(inp_activation, [inp_activation]*3)\n",
    "            \n",
    "        self.bottle2 = bottleneck_block(inp_activation, [inp_activation]*2 + [output], down  = nn.Conv2d(inp_activation\n",
    "                                                                                                       ,output, 1))\n",
    "\n",
    "    def forward(self , inp):\n",
    "        c = self.bottle1(inp)\n",
    "        c = self.bottle2(c)\n",
    "        \n",
    "        return c"
   ]
  },
  {
   "cell_type": "code",
   "execution_count": 2,
   "metadata": {},
   "outputs": [],
   "source": [
    "m=Unet(2)"
   ]
  }
 ],
 "metadata": {
  "kernelspec": {
   "display_name": "Python (other-env)",
   "language": "python",
   "name": "other-env"
  },
  "language_info": {
   "codemirror_mode": {
    "name": "ipython",
    "version": 3
   },
   "file_extension": ".py",
   "mimetype": "text/x-python",
   "name": "python",
   "nbconvert_exporter": "python",
   "pygments_lexer": "ipython3",
   "version": "3.8.5"
  }
 },
 "nbformat": 4,
 "nbformat_minor": 4
}
